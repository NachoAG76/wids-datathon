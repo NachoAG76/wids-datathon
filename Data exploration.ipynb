{
 "cells": [
  {
   "cell_type": "markdown",
   "metadata": {
    "deletable": true,
    "editable": true
   },
   "source": [
    "### Data exploration of the WiDS Competition 2018\n",
    "The goal is to predict, given a certain data entry, whether the person is a woman or not. \n",
    "\n",
    "This is a simple data exploration to see what we've got. \n",
    "\n",
    "* two classes: woman / not a woman\n",
    "* 1234 features (apply PCA?)\n",
    "* not all of the data is provided - lot's cells containing NaN\n",
    "\n"
   ]
  },
  {
   "cell_type": "code",
   "execution_count": 1,
   "metadata": {
    "collapsed": false,
    "deletable": true,
    "editable": true
   },
   "outputs": [],
   "source": [
    "import numpy as np\n",
    "import pandas as pd\n",
    "import matplotlib.pyplot as plt\n",
    "import pickle\n",
    "import seaborn as sns\n",
    "%matplotlib inline"
   ]
  },
  {
   "cell_type": "code",
   "execution_count": 2,
   "metadata": {
    "collapsed": true,
    "deletable": true,
    "editable": true
   },
   "outputs": [],
   "source": [
    "train_data_file = \"train.csv\"\n",
    "test_data_file = \"test.csv\""
   ]
  },
  {
   "cell_type": "code",
   "execution_count": 3,
   "metadata": {
    "collapsed": false,
    "deletable": true,
    "editable": true
   },
   "outputs": [
    {
     "name": "stderr",
     "output_type": "stream",
     "text": [
      "/Library/Python/2.7/site-packages/pandas-0.15.2-py2.7-macosx-10.10-intel.egg/pandas/io/parsers.py:1159: DtypeWarning: Columns (12,49,51,56,91,126,145,163,165,166,167,168,169,171,173,174,176,177,242,244,246,248,252,255,274,290,291,292,294,295,296,332,344,366,374,376,397,414,440,491,620,634,639,642,643,645,710,713,760,769,810,829,929,954,979,1001,1002,1003,1004,1005,1024,1037,1041,1043,1062,1086,1099,1100,1121,1129,1136,1152,1153,1166,1168,1182,1193,1204,1205,1207,1208,1216,1226,1228,1230,1232,1234) have mixed types. Specify dtype option on import or set low_memory=False.\n",
      "  data = self._reader.read(nrows)\n",
      "/Library/Python/2.7/site-packages/pandas-0.15.2-py2.7-macosx-10.10-intel.egg/pandas/io/parsers.py:1159: DtypeWarning: Columns (11,13,48,50,55,90,125,144,162,163,164,166,168,169,170,171,172,174,176,241,243,245,247,251,254,273,289,291,292,293,295,296,312,313,314,331,343,365,373,375,396,413,439,490,619,623,630,633,638,642,644,669,712,759,768,788,809,828,928,953,978,1000,1001,1002,1003,1004,1023,1036,1040,1042,1063,1085,1098,1099,1120,1128,1135,1151,1152,1165,1167,1181,1192,1204,1205,1206,1207,1215,1225,1227,1229,1231,1233) have mixed types. Specify dtype option on import or set low_memory=False.\n",
      "  data = self._reader.read(nrows)\n"
     ]
    }
   ],
   "source": [
    "# Set up the dataframes for the training and test data\n",
    "train = pd.read_csv(train_data_file)\n",
    "test = pd.read_csv(test_data_file)"
   ]
  },
  {
   "cell_type": "code",
   "execution_count": 4,
   "metadata": {
    "collapsed": false,
    "deletable": true,
    "editable": true
   },
   "outputs": [
    {
     "name": "stdout",
     "output_type": "stream",
     "text": [
      "(18255, 1235)\n",
      "(27285, 1234)\n"
     ]
    }
   ],
   "source": [
    "print(train.shape)\n",
    "print(test.shape)"
   ]
  },
  {
   "cell_type": "code",
   "execution_count": 5,
   "metadata": {
    "collapsed": false,
    "deletable": true,
    "editable": true
   },
   "outputs": [
    {
     "data": {
      "text/html": [
       "<div style=\"max-height:1000px;max-width:1500px;overflow:auto;\">\n",
       "<table border=\"1\" class=\"dataframe\">\n",
       "  <thead>\n",
       "    <tr style=\"text-align: right;\">\n",
       "      <th></th>\n",
       "      <th>train_id</th>\n",
       "      <th>AA3</th>\n",
       "      <th>AA4</th>\n",
       "      <th>AA5</th>\n",
       "      <th>AA6</th>\n",
       "      <th>AA7</th>\n",
       "      <th>AA14</th>\n",
       "      <th>AA15</th>\n",
       "      <th>DG1</th>\n",
       "      <th>is_female</th>\n",
       "      <th>...</th>\n",
       "      <th>LN1B</th>\n",
       "      <th>LN2_1</th>\n",
       "      <th>LN2_2</th>\n",
       "      <th>LN2_3</th>\n",
       "      <th>LN2_4</th>\n",
       "      <th>GN1</th>\n",
       "      <th>GN2</th>\n",
       "      <th>GN3</th>\n",
       "      <th>GN4</th>\n",
       "      <th>GN5</th>\n",
       "    </tr>\n",
       "  </thead>\n",
       "  <tbody>\n",
       "    <tr>\n",
       "      <th>count</th>\n",
       "      <td> 18255.000000</td>\n",
       "      <td> 18255.000000</td>\n",
       "      <td> 18255.000000</td>\n",
       "      <td> 5653.000000</td>\n",
       "      <td> 12602.000000</td>\n",
       "      <td>  18255.000000</td>\n",
       "      <td> 18255.000000</td>\n",
       "      <td> 18255.000000</td>\n",
       "      <td> 18255.000000</td>\n",
       "      <td> 18255.000000</td>\n",
       "      <td>...</td>\n",
       "      <td> 18255.000000</td>\n",
       "      <td> 18255.000000</td>\n",
       "      <td> 18255.000000</td>\n",
       "      <td> 18255.000000</td>\n",
       "      <td> 18255.000000</td>\n",
       "      <td> 14230.000000</td>\n",
       "      <td> 18255.000000</td>\n",
       "      <td> 18255.000000</td>\n",
       "      <td> 18255.000000</td>\n",
       "      <td> 18255.000000</td>\n",
       "    </tr>\n",
       "    <tr>\n",
       "      <th>mean</th>\n",
       "      <td>  9127.000000</td>\n",
       "      <td>     2.371460</td>\n",
       "      <td>    28.558313</td>\n",
       "      <td>    3.138864</td>\n",
       "      <td>     6.793525</td>\n",
       "      <td> 291360.681676</td>\n",
       "      <td>  8030.510600</td>\n",
       "      <td>   352.038346</td>\n",
       "      <td>  1978.073185</td>\n",
       "      <td>     0.537113</td>\n",
       "      <td>...</td>\n",
       "      <td>     2.397316</td>\n",
       "      <td>     2.145330</td>\n",
       "      <td>     2.151575</td>\n",
       "      <td>     2.830731</td>\n",
       "      <td>     2.835881</td>\n",
       "      <td>     5.590654</td>\n",
       "      <td>     6.763079</td>\n",
       "      <td>     7.421912</td>\n",
       "      <td>     8.925883</td>\n",
       "      <td>     8.817365</td>\n",
       "    </tr>\n",
       "    <tr>\n",
       "      <th>std</th>\n",
       "      <td>  5269.908918</td>\n",
       "      <td>     1.130523</td>\n",
       "      <td>     9.822629</td>\n",
       "      <td>    1.361434</td>\n",
       "      <td>     0.769568</td>\n",
       "      <td>  98126.483799</td>\n",
       "      <td> 22061.608061</td>\n",
       "      <td>   179.744071</td>\n",
       "      <td>    14.740675</td>\n",
       "      <td>     0.498634</td>\n",
       "      <td>...</td>\n",
       "      <td>     1.231487</td>\n",
       "      <td>     1.407641</td>\n",
       "      <td>     1.407021</td>\n",
       "      <td>     1.594319</td>\n",
       "      <td>     1.592863</td>\n",
       "      <td>    18.210791</td>\n",
       "      <td>    20.537281</td>\n",
       "      <td>    21.752528</td>\n",
       "      <td>    24.523345</td>\n",
       "      <td>    24.413247</td>\n",
       "    </tr>\n",
       "    <tr>\n",
       "      <th>min</th>\n",
       "      <td>     0.000000</td>\n",
       "      <td>     1.000000</td>\n",
       "      <td>    11.000000</td>\n",
       "      <td>    1.000000</td>\n",
       "      <td>     6.000000</td>\n",
       "      <td> 111011.000000</td>\n",
       "      <td>    96.000000</td>\n",
       "      <td>    24.000000</td>\n",
       "      <td>  1917.000000</td>\n",
       "      <td>     0.000000</td>\n",
       "      <td>...</td>\n",
       "      <td>     1.000000</td>\n",
       "      <td>     1.000000</td>\n",
       "      <td>     1.000000</td>\n",
       "      <td>     1.000000</td>\n",
       "      <td>     1.000000</td>\n",
       "      <td>     1.000000</td>\n",
       "      <td>     1.000000</td>\n",
       "      <td>     1.000000</td>\n",
       "      <td>     1.000000</td>\n",
       "      <td>     1.000000</td>\n",
       "    </tr>\n",
       "    <tr>\n",
       "      <th>25%</th>\n",
       "      <td>  4563.500000</td>\n",
       "      <td>     1.000000</td>\n",
       "      <td>    21.000000</td>\n",
       "      <td>    2.000000</td>\n",
       "      <td>     6.000000</td>\n",
       "      <td> 216071.000000</td>\n",
       "      <td>   949.000000</td>\n",
       "      <td>   178.000000</td>\n",
       "      <td>  1969.000000</td>\n",
       "      <td>     0.000000</td>\n",
       "      <td>...</td>\n",
       "      <td>     1.000000</td>\n",
       "      <td>     1.000000</td>\n",
       "      <td>     1.000000</td>\n",
       "      <td>     1.000000</td>\n",
       "      <td>     1.000000</td>\n",
       "      <td>     1.000000</td>\n",
       "      <td>     1.000000</td>\n",
       "      <td>     1.000000</td>\n",
       "      <td>     1.000000</td>\n",
       "      <td>     1.000000</td>\n",
       "    </tr>\n",
       "    <tr>\n",
       "      <th>50%</th>\n",
       "      <td>  9127.000000</td>\n",
       "      <td>     2.000000</td>\n",
       "      <td>    31.000000</td>\n",
       "      <td>    3.000000</td>\n",
       "      <td>     7.000000</td>\n",
       "      <td> 313011.000000</td>\n",
       "      <td>  2902.000000</td>\n",
       "      <td>   354.000000</td>\n",
       "      <td>  1981.000000</td>\n",
       "      <td>     1.000000</td>\n",
       "      <td>...</td>\n",
       "      <td>     2.000000</td>\n",
       "      <td>     1.000000</td>\n",
       "      <td>     1.000000</td>\n",
       "      <td>     3.000000</td>\n",
       "      <td>     3.000000</td>\n",
       "      <td>     2.000000</td>\n",
       "      <td>     2.000000</td>\n",
       "      <td>     2.000000</td>\n",
       "      <td>     2.000000</td>\n",
       "      <td>     2.000000</td>\n",
       "    </tr>\n",
       "    <tr>\n",
       "      <th>75%</th>\n",
       "      <td> 13690.500000</td>\n",
       "      <td>     3.000000</td>\n",
       "      <td>    34.000000</td>\n",
       "      <td>    4.000000</td>\n",
       "      <td>     7.000000</td>\n",
       "      <td> 348181.000000</td>\n",
       "      <td>  4609.000000</td>\n",
       "      <td>   523.000000</td>\n",
       "      <td>  1990.000000</td>\n",
       "      <td>     1.000000</td>\n",
       "      <td>...</td>\n",
       "      <td>     4.000000</td>\n",
       "      <td>     3.000000</td>\n",
       "      <td>     3.000000</td>\n",
       "      <td>     4.000000</td>\n",
       "      <td>     4.000000</td>\n",
       "      <td>     3.000000</td>\n",
       "      <td>     3.000000</td>\n",
       "      <td>     3.000000</td>\n",
       "      <td>     3.000000</td>\n",
       "      <td>     3.000000</td>\n",
       "    </tr>\n",
       "    <tr>\n",
       "      <th>max</th>\n",
       "      <td> 18254.000000</td>\n",
       "      <td>     4.000000</td>\n",
       "      <td>    44.000000</td>\n",
       "      <td>    5.000000</td>\n",
       "      <td>     8.000000</td>\n",
       "      <td> 448051.000000</td>\n",
       "      <td> 99999.000000</td>\n",
       "      <td>   633.000000</td>\n",
       "      <td>  2001.000000</td>\n",
       "      <td>     1.000000</td>\n",
       "      <td>...</td>\n",
       "      <td>     4.000000</td>\n",
       "      <td>     5.000000</td>\n",
       "      <td>     5.000000</td>\n",
       "      <td>     5.000000</td>\n",
       "      <td>     5.000000</td>\n",
       "      <td>    99.000000</td>\n",
       "      <td>    99.000000</td>\n",
       "      <td>    99.000000</td>\n",
       "      <td>    99.000000</td>\n",
       "      <td>    99.000000</td>\n",
       "    </tr>\n",
       "  </tbody>\n",
       "</table>\n",
       "<p>8 rows × 1139 columns</p>\n",
       "</div>"
      ],
      "text/plain": [
       "           train_id           AA3           AA4          AA5           AA6  \\\n",
       "count  18255.000000  18255.000000  18255.000000  5653.000000  12602.000000   \n",
       "mean    9127.000000      2.371460     28.558313     3.138864      6.793525   \n",
       "std     5269.908918      1.130523      9.822629     1.361434      0.769568   \n",
       "min        0.000000      1.000000     11.000000     1.000000      6.000000   \n",
       "25%     4563.500000      1.000000     21.000000     2.000000      6.000000   \n",
       "50%     9127.000000      2.000000     31.000000     3.000000      7.000000   \n",
       "75%    13690.500000      3.000000     34.000000     4.000000      7.000000   \n",
       "max    18254.000000      4.000000     44.000000     5.000000      8.000000   \n",
       "\n",
       "                 AA7          AA14          AA15           DG1     is_female  \\\n",
       "count   18255.000000  18255.000000  18255.000000  18255.000000  18255.000000   \n",
       "mean   291360.681676   8030.510600    352.038346   1978.073185      0.537113   \n",
       "std     98126.483799  22061.608061    179.744071     14.740675      0.498634   \n",
       "min    111011.000000     96.000000     24.000000   1917.000000      0.000000   \n",
       "25%    216071.000000    949.000000    178.000000   1969.000000      0.000000   \n",
       "50%    313011.000000   2902.000000    354.000000   1981.000000      1.000000   \n",
       "75%    348181.000000   4609.000000    523.000000   1990.000000      1.000000   \n",
       "max    448051.000000  99999.000000    633.000000   2001.000000      1.000000   \n",
       "\n",
       "           ...               LN1B         LN2_1         LN2_2         LN2_3  \\\n",
       "count      ...       18255.000000  18255.000000  18255.000000  18255.000000   \n",
       "mean       ...           2.397316      2.145330      2.151575      2.830731   \n",
       "std        ...           1.231487      1.407641      1.407021      1.594319   \n",
       "min        ...           1.000000      1.000000      1.000000      1.000000   \n",
       "25%        ...           1.000000      1.000000      1.000000      1.000000   \n",
       "50%        ...           2.000000      1.000000      1.000000      3.000000   \n",
       "75%        ...           4.000000      3.000000      3.000000      4.000000   \n",
       "max        ...           4.000000      5.000000      5.000000      5.000000   \n",
       "\n",
       "              LN2_4           GN1           GN2           GN3           GN4  \\\n",
       "count  18255.000000  14230.000000  18255.000000  18255.000000  18255.000000   \n",
       "mean       2.835881      5.590654      6.763079      7.421912      8.925883   \n",
       "std        1.592863     18.210791     20.537281     21.752528     24.523345   \n",
       "min        1.000000      1.000000      1.000000      1.000000      1.000000   \n",
       "25%        1.000000      1.000000      1.000000      1.000000      1.000000   \n",
       "50%        3.000000      2.000000      2.000000      2.000000      2.000000   \n",
       "75%        4.000000      3.000000      3.000000      3.000000      3.000000   \n",
       "max        5.000000     99.000000     99.000000     99.000000     99.000000   \n",
       "\n",
       "                GN5  \n",
       "count  18255.000000  \n",
       "mean       8.817365  \n",
       "std       24.413247  \n",
       "min        1.000000  \n",
       "25%        1.000000  \n",
       "50%        2.000000  \n",
       "75%        3.000000  \n",
       "max       99.000000  \n",
       "\n",
       "[8 rows x 1139 columns]"
      ]
     },
     "execution_count": 5,
     "metadata": {},
     "output_type": "execute_result"
    }
   ],
   "source": [
    "train.describe()"
   ]
  },
  {
   "cell_type": "code",
   "execution_count": 6,
   "metadata": {
    "collapsed": false,
    "deletable": true,
    "editable": true
   },
   "outputs": [
    {
     "data": {
      "text/html": [
       "<div style=\"max-height:1000px;max-width:1500px;overflow:auto;\">\n",
       "<table border=\"1\" class=\"dataframe\">\n",
       "  <thead>\n",
       "    <tr style=\"text-align: right;\">\n",
       "      <th></th>\n",
       "      <th>train_id</th>\n",
       "      <th>AA3</th>\n",
       "      <th>AA4</th>\n",
       "      <th>AA5</th>\n",
       "      <th>AA6</th>\n",
       "      <th>AA7</th>\n",
       "      <th>AA14</th>\n",
       "      <th>AA15</th>\n",
       "      <th>DG1</th>\n",
       "      <th>is_female</th>\n",
       "      <th>...</th>\n",
       "      <th>GN1</th>\n",
       "      <th>GN1_OTHERS</th>\n",
       "      <th>GN2</th>\n",
       "      <th>GN2_OTHERS</th>\n",
       "      <th>GN3</th>\n",
       "      <th>GN3_OTHERS</th>\n",
       "      <th>GN4</th>\n",
       "      <th>GN4_OTHERS</th>\n",
       "      <th>GN5</th>\n",
       "      <th>GN5_OTHERS</th>\n",
       "    </tr>\n",
       "  </thead>\n",
       "  <tbody>\n",
       "    <tr>\n",
       "      <th>0</th>\n",
       "      <td> 0</td>\n",
       "      <td> 3</td>\n",
       "      <td> 32</td>\n",
       "      <td>  3</td>\n",
       "      <td>NaN</td>\n",
       "      <td> 323011</td>\n",
       "      <td> 3854</td>\n",
       "      <td> 481</td>\n",
       "      <td> 1975</td>\n",
       "      <td> 1</td>\n",
       "      <td>...</td>\n",
       "      <td> 99</td>\n",
       "      <td> NaN</td>\n",
       "      <td> 99</td>\n",
       "      <td> NaN</td>\n",
       "      <td> 99</td>\n",
       "      <td> NaN</td>\n",
       "      <td> 99</td>\n",
       "      <td> NaN</td>\n",
       "      <td> 99</td>\n",
       "      <td> NaN</td>\n",
       "    </tr>\n",
       "    <tr>\n",
       "      <th>1</th>\n",
       "      <td> 1</td>\n",
       "      <td> 2</td>\n",
       "      <td> 26</td>\n",
       "      <td>NaN</td>\n",
       "      <td>  8</td>\n",
       "      <td> 268131</td>\n",
       "      <td> 2441</td>\n",
       "      <td> 344</td>\n",
       "      <td> 1981</td>\n",
       "      <td> 1</td>\n",
       "      <td>...</td>\n",
       "      <td>NaN</td>\n",
       "      <td> NaN</td>\n",
       "      <td>  1</td>\n",
       "      <td> NaN</td>\n",
       "      <td>  2</td>\n",
       "      <td> NaN</td>\n",
       "      <td>  2</td>\n",
       "      <td> NaN</td>\n",
       "      <td>  2</td>\n",
       "      <td> NaN</td>\n",
       "    </tr>\n",
       "    <tr>\n",
       "      <th>2</th>\n",
       "      <td> 2</td>\n",
       "      <td> 1</td>\n",
       "      <td> 16</td>\n",
       "      <td>NaN</td>\n",
       "      <td>  7</td>\n",
       "      <td> 167581</td>\n",
       "      <td>  754</td>\n",
       "      <td> 143</td>\n",
       "      <td> 1995</td>\n",
       "      <td> 1</td>\n",
       "      <td>...</td>\n",
       "      <td>  1</td>\n",
       "      <td> NaN</td>\n",
       "      <td>  2</td>\n",
       "      <td> NaN</td>\n",
       "      <td>  2</td>\n",
       "      <td> NaN</td>\n",
       "      <td>  2</td>\n",
       "      <td> NaN</td>\n",
       "      <td>  2</td>\n",
       "      <td> NaN</td>\n",
       "    </tr>\n",
       "    <tr>\n",
       "      <th>3</th>\n",
       "      <td> 3</td>\n",
       "      <td> 4</td>\n",
       "      <td> 44</td>\n",
       "      <td>  5</td>\n",
       "      <td>NaN</td>\n",
       "      <td> 445071</td>\n",
       "      <td> 5705</td>\n",
       "      <td> 604</td>\n",
       "      <td> 1980</td>\n",
       "      <td> 1</td>\n",
       "      <td>...</td>\n",
       "      <td>NaN</td>\n",
       "      <td> NaN</td>\n",
       "      <td>  2</td>\n",
       "      <td> NaN</td>\n",
       "      <td>  2</td>\n",
       "      <td> NaN</td>\n",
       "      <td> 99</td>\n",
       "      <td> NaN</td>\n",
       "      <td> 99</td>\n",
       "      <td> NaN</td>\n",
       "    </tr>\n",
       "    <tr>\n",
       "      <th>4</th>\n",
       "      <td> 4</td>\n",
       "      <td> 4</td>\n",
       "      <td> 43</td>\n",
       "      <td>NaN</td>\n",
       "      <td>  6</td>\n",
       "      <td> 436161</td>\n",
       "      <td> 5645</td>\n",
       "      <td> 592</td>\n",
       "      <td> 1958</td>\n",
       "      <td> 1</td>\n",
       "      <td>...</td>\n",
       "      <td>NaN</td>\n",
       "      <td> NaN</td>\n",
       "      <td>  1</td>\n",
       "      <td> NaN</td>\n",
       "      <td>  1</td>\n",
       "      <td> NaN</td>\n",
       "      <td>  1</td>\n",
       "      <td> NaN</td>\n",
       "      <td>  1</td>\n",
       "      <td> NaN</td>\n",
       "    </tr>\n",
       "  </tbody>\n",
       "</table>\n",
       "<p>5 rows × 1235 columns</p>\n",
       "</div>"
      ],
      "text/plain": [
       "   train_id  AA3  AA4  AA5  AA6     AA7  AA14  AA15   DG1  is_female  \\\n",
       "0         0    3   32    3  NaN  323011  3854   481  1975          1   \n",
       "1         1    2   26  NaN    8  268131  2441   344  1981          1   \n",
       "2         2    1   16  NaN    7  167581   754   143  1995          1   \n",
       "3         3    4   44    5  NaN  445071  5705   604  1980          1   \n",
       "4         4    4   43  NaN    6  436161  5645   592  1958          1   \n",
       "\n",
       "      ...      GN1  GN1_OTHERS GN2  GN2_OTHERS  GN3  GN3_OTHERS  GN4  \\\n",
       "0     ...       99         NaN  99         NaN   99         NaN   99   \n",
       "1     ...      NaN         NaN   1         NaN    2         NaN    2   \n",
       "2     ...        1         NaN   2         NaN    2         NaN    2   \n",
       "3     ...      NaN         NaN   2         NaN    2         NaN   99   \n",
       "4     ...      NaN         NaN   1         NaN    1         NaN    1   \n",
       "\n",
       "   GN4_OTHERS  GN5  GN5_OTHERS  \n",
       "0         NaN   99         NaN  \n",
       "1         NaN    2         NaN  \n",
       "2         NaN    2         NaN  \n",
       "3         NaN   99         NaN  \n",
       "4         NaN    1         NaN  \n",
       "\n",
       "[5 rows x 1235 columns]"
      ]
     },
     "execution_count": 6,
     "metadata": {},
     "output_type": "execute_result"
    }
   ],
   "source": [
    "train.head(5)"
   ]
  },
  {
   "cell_type": "code",
   "execution_count": 7,
   "metadata": {
    "collapsed": false,
    "deletable": true,
    "editable": true
   },
   "outputs": [],
   "source": [
    "# Spliting the training and testing data in input and output variables\n",
    "female = \"is_female\"\n",
    "\n",
    "train_X = train.loc[:, train.columns != female]\n",
    "train_Y = train[female]\n",
    "\n",
    "test_X = test"
   ]
  },
  {
   "cell_type": "code",
   "execution_count": 8,
   "metadata": {
    "collapsed": false,
    "deletable": true,
    "editable": true
   },
   "outputs": [
    {
     "name": "stdout",
     "output_type": "stream",
     "text": [
      "(18255, 1234)\n",
      "(18255,)\n",
      "(27285, 1234)\n"
     ]
    }
   ],
   "source": [
    "print(train_X.shape)\n",
    "print(train_Y.shape)\n",
    "print(test_X.shape)"
   ]
  },
  {
   "cell_type": "code",
   "execution_count": 9,
   "metadata": {
    "collapsed": false,
    "deletable": true,
    "editable": true
   },
   "outputs": [
    {
     "data": {
      "text/plain": [
       "Index([u'train_id', u'AA3', u'AA4', u'AA5', u'AA6', u'AA7', u'AA14', u'AA15', u'DG1', u'DG3', u'DG3A', u'DG3A_OTHERS', u'DG4', u'DG4_OTHERS', u'DG5_1', u'DG5_2', u'DG5_3', u'DG5_4', u'DG5_5', u'DG5_6', u'DG5_7', u'DG5_8', u'DG5_9', u'DG5_10', u'DG5_11', u'DG5_96', u'DG6', u'DG8a', u'DG8b', u'DG8c', u'DG9a', u'DG9b', u'DG9c', u'DG10b', u'DG10c', u'DG11b', u'DG11c', u'DG12B_1', u'DG12B_2', u'DG12C_1', u'DG12C_2', u'DG13_1', u'DG13_2', u'DG13_3', u'DG13_4', u'DG13_5', u'DG13_96', u'DG13_7', u'DG13_OTHERS', u'DG14', u'DG14_OTHERS', u'DL0', u'DL1', u'DL1_OTHERS', u'DL2', u'DL2_23_OTHERS', u'DL2_96_OTHERS', u'DL3', u'DL4_1', u'DL4_2', u'DL4_3', u'DL4_4', u'DL4_5', u'DL4_6', u'DL4_7', u'DL4_8', u'DL4_9', u'DL4_10', u'DL4_11', u'DL4_12', u'DL4_13', u'DL4_14', u'DL4_15', u'DL4_16', u'DL4_17', u'DL4_18', u'DL4_19', u'DL4_20', u'DL4_21', u'DL4_22', u'DL4_23', u'DL4_96', u'DL4_99', u'DL4_OTHERS', u'DL5', u'DL6', u'DL7', u'DL8', u'DL11', u'DL12', u'DL12_OTHERS', u'DL13', u'DL14', u'DL15', u'DL16', u'DL17', u'DL18', u'DL19', u'DL20', u'DL21', ...], dtype='object')"
      ]
     },
     "execution_count": 9,
     "metadata": {},
     "output_type": "execute_result"
    }
   ],
   "source": [
    "# One more thing before I turn in: can I show a correlation between a column and a peron being a woman?\n",
    "train_X.columns"
   ]
  },
  {
   "cell_type": "code",
   "execution_count": 10,
   "metadata": {
    "collapsed": false,
    "deletable": true,
    "editable": true
   },
   "outputs": [
    {
     "data": {
      "image/png": "[encoded data removed]",
      "text/plain": [
       "<matplotlib.figure.Figure at 0x10c10df90>"
      ]
     },
     "metadata": {},
     "output_type": "display_data"
    }
   ],
   "source": [
    "# Can relation to the head of the house have a relation to the gender? It seems not\n",
    "# 1=Myself\n",
    "# 2=Spouse\n",
    "# 3=Son/Daughter\n",
    "# 4=Father/Mother\n",
    "# 5=Sister/Brother\n",
    "# 6=Grandchild\n",
    "# 7=Other relative\n",
    "# 9=Other non-relative\n",
    "# 99=DK\n",
    "fig = sns.countplot(x=train.DG6, hue=train.is_female)"
   ]
  },
  {
   "cell_type": "code",
   "execution_count": 11,
   "metadata": {
    "collapsed": false,
    "deletable": true,
    "editable": true
   },
   "outputs": [
    {
     "data": {
      "image/png": "[encoded data removed]",
      "text/plain": [
       "<matplotlib.figure.Figure at 0x10bbb6150>"
      ]
     },
     "metadata": {},
     "output_type": "display_data"
    }
   ],
   "source": [
    "# Who decides who should have a phone in the house? \n",
    "# 1=Myself\n",
    "# 2=My spouse \n",
    "# 3=My parents/guardian\n",
    "# 4=My child (children) \n",
    "# 5=Brother\n",
    "# 8=Sister\n",
    "# 99=DK\n",
    "fig = sns.countplot(x=train.MT1A, hue=train.is_female)\n"
   ]
  },
  {
   "cell_type": "code",
   "execution_count": 12,
   "metadata": {
    "collapsed": false,
    "deletable": true,
    "editable": true
   },
   "outputs": [
    {
     "data": {
      "image/png": "[encoded data removed]",
      "text/plain": [
       "<matplotlib.figure.Figure at 0x10befbe50>"
      ]
     },
     "metadata": {},
     "output_type": "display_data"
    }
   ],
   "source": [
    "# Do you personally own a phone? 1 = Yes, 2 = No\n",
    "fig = sns.countplot(x=train.MT2, hue=train.is_female)"
   ]
  },
  {
   "cell_type": "code",
   "execution_count": 17,
   "metadata": {
    "collapsed": false,
    "deletable": true,
    "editable": true
   },
   "outputs": [
    {
     "name": "stdout",
     "output_type": "stream",
     "text": [
      "('Female:', 9805, 'Male:', 8450)\n"
     ]
    }
   ],
   "source": [
    "m = 18255 - sum(train.is_female)\n",
    "f = sum(train.is_female)\n",
    "\n",
    "print(\"Female:\",f, \"Male:\", m)"
   ]
  },
  {
   "cell_type": "code",
   "execution_count": 20,
   "metadata": {
    "collapsed": false,
    "deletable": true,
    "editable": true
   },
   "outputs": [
    {
     "data": {
      "image/png": "[encoded data removed]",
      "text/plain": [
       "<matplotlib.figure.Figure at 0x10c028a50>"
      ]
     },
     "metadata": {},
     "output_type": "display_data"
    }
   ],
   "source": [
    "fig = sns.countplot(x=train.DG4, hue=train.is_female)\n",
    "# 1=Illiterate- no formal education\n",
    "# 2=Literate without formal education ( knows how to read and write but has not formally studied in a school)\n",
    "# 3=Below Primary Schooling (Schooling till standard 4th) \n",
    "# 4=Primary (Schooling till standard 5th)\n",
    "# 5=Middle (Schooling till standard 6th-8th)\n",
    "# 6=Matriculation/Secondary (schooling till standard 10th )\n",
    "# 7=Higher secondary (schooling till standard 12th )/ Intermediate/Pre University/ Senior Secondary\n",
    "# 8=Non technical diploma or certificate not equal to degree\n",
    "# 9=Technical diploma or certificate not equal to degree\n",
    "# 10=Graduate\n",
    "# 11=Post Graduate and above\n",
    "# 96=Other (Specify)\n",
    "# 99=DK"
   ]
  },
  {
   "cell_type": "code",
   "execution_count": 26,
   "metadata": {
    "collapsed": false
   },
   "outputs": [
    {
     "data": {
      "image/png": "[encoded data removed]",
      "text/plain": [
       "<matplotlib.figure.Figure at 0x10bf15910>"
      ]
     },
     "metadata": {},
     "output_type": "display_data"
    }
   ],
   "source": [
    "fig = sns.countplot(x=train.DL0, hue=train.is_female)"
   ]
  },
  {
   "cell_type": "code",
   "execution_count": 27,
   "metadata": {
    "collapsed": false
   },
   "outputs": [
    {
     "data": {
      "image/png": "[encoded data removed]",
      "text/plain": [
       "<matplotlib.figure.Figure at 0x10bcd2e10>"
      ]
     },
     "metadata": {},
     "output_type": "display_data"
    }
   ],
   "source": [
    "fig = sns.countplot(x=train.DL1, hue=train.is_female)"
   ]
  },
  {
   "cell_type": "code",
   "execution_count": 29,
   "metadata": {
    "collapsed": false
   },
   "outputs": [
    {
     "data": {
      "image/png": "[encoded data removed]",
      "text/plain": [
       "<matplotlib.figure.Figure at 0x10fd57e90>"
      ]
     },
     "metadata": {},
     "output_type": "display_data"
    }
   ],
   "source": [
    "fig = sns.countplot(x=train.DG1[30:100], hue=train.is_female[30:100])"
   ]
  },
  {
   "cell_type": "code",
   "execution_count": null,
   "metadata": {
    "collapsed": true
   },
   "outputs": [],
   "source": []
  }
 ],
 "metadata": {
  "kernelspec": {
   "display_name": "Python 2",
   "language": "python",
   "name": "python2"
  },
  "language_info": {
   "codemirror_mode": {
    "name": "ipython",
    "version": 2
   },
   "file_extension": ".py",
   "mimetype": "text/x-python",
   "name": "python",
   "nbconvert_exporter": "python",
   "pygments_lexer": "ipython2",
   "version": "2.7.10"
  }
 },
 "nbformat": 4,
 "nbformat_minor": 0
}
